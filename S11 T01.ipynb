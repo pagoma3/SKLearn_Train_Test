{
 "cells": [
  {
   "cell_type": "code",
   "execution_count": 1,
   "metadata": {},
   "outputs": [],
   "source": [
    "import pandas as pd\n",
    "import sklearn as skl\n",
    "import matplotlib.pyplot as plt"
   ]
  },
  {
   "cell_type": "markdown",
   "metadata": {},
   "source": [
    "Parteix el conjunt de dadesDelayedFlights.csv en train i test. Estudia els dos conjunts per separat, a nivell descriptiu:"
   ]
  },
  {
   "cell_type": "code",
   "execution_count": 2,
   "metadata": {
    "scrolled": true
   },
   "outputs": [
    {
     "data": {
      "text/plain": [
       "Month                0\n",
       "DayofMonth           0\n",
       "DayOfWeek            0\n",
       "DepTime              0\n",
       "CRSDepTime           0\n",
       "ArrTime              0\n",
       "CRSArrTime           0\n",
       "UniqueCarrier        0\n",
       "ActualElapsedTime    0\n",
       "CRSElapsedTime       0\n",
       "AirTime              0\n",
       "ArrDelay             0\n",
       "DepDelay             0\n",
       "Origin               0\n",
       "Dest                 0\n",
       "Distance             0\n",
       "Cancelled            0\n",
       "CancellationCode     0\n",
       "Diverted             0\n",
       "CarrierDelay         0\n",
       "WeatherDelay         0\n",
       "NASDelay             0\n",
       "SecurityDelay        0\n",
       "LateAircraftDelay    0\n",
       "AvSpeed              0\n",
       "dtype: int64"
      ]
     },
     "execution_count": 2,
     "metadata": {},
     "output_type": "execute_result"
    }
   ],
   "source": [
    "dades = pd.read_csv(\"NouFitxer.csv\")\n",
    "\n",
    "del dades[\"Unnamed: 0\"]\n",
    "\n",
    "dades.isnull().sum()"
   ]
  },
  {
   "cell_type": "code",
   "execution_count": 3,
   "metadata": {},
   "outputs": [],
   "source": [
    "from sklearn.model_selection import train_test_split\n",
    "\n",
    "\n",
    "df_train, df_test = train_test_split(dades, train_size = 0.8, random_state = 1)"
   ]
  },
  {
   "cell_type": "code",
   "execution_count": 4,
   "metadata": {
    "scrolled": true
   },
   "outputs": [
    {
     "data": {
      "text/html": [
       "<div>\n",
       "<style scoped>\n",
       "    .dataframe tbody tr th:only-of-type {\n",
       "        vertical-align: middle;\n",
       "    }\n",
       "\n",
       "    .dataframe tbody tr th {\n",
       "        vertical-align: top;\n",
       "    }\n",
       "\n",
       "    .dataframe thead th {\n",
       "        text-align: right;\n",
       "    }\n",
       "</style>\n",
       "<table border=\"1\" class=\"dataframe\">\n",
       "  <thead>\n",
       "    <tr style=\"text-align: right;\">\n",
       "      <th></th>\n",
       "      <th>Month</th>\n",
       "      <th>DayofMonth</th>\n",
       "      <th>DayOfWeek</th>\n",
       "      <th>DepTime</th>\n",
       "      <th>CRSDepTime</th>\n",
       "      <th>ArrTime</th>\n",
       "      <th>CRSArrTime</th>\n",
       "      <th>UniqueCarrier</th>\n",
       "      <th>ActualElapsedTime</th>\n",
       "      <th>CRSElapsedTime</th>\n",
       "      <th>...</th>\n",
       "      <th>Distance</th>\n",
       "      <th>Cancelled</th>\n",
       "      <th>CancellationCode</th>\n",
       "      <th>Diverted</th>\n",
       "      <th>CarrierDelay</th>\n",
       "      <th>WeatherDelay</th>\n",
       "      <th>NASDelay</th>\n",
       "      <th>SecurityDelay</th>\n",
       "      <th>LateAircraftDelay</th>\n",
       "      <th>AvSpeed</th>\n",
       "    </tr>\n",
       "  </thead>\n",
       "  <tbody>\n",
       "    <tr>\n",
       "      <th>768032</th>\n",
       "      <td>2</td>\n",
       "      <td>15</td>\n",
       "      <td>5</td>\n",
       "      <td>1436.0</td>\n",
       "      <td>1424</td>\n",
       "      <td>1517.0</td>\n",
       "      <td>1500</td>\n",
       "      <td>NW</td>\n",
       "      <td>101.0</td>\n",
       "      <td>96.0</td>\n",
       "      <td>...</td>\n",
       "      <td>490</td>\n",
       "      <td>0</td>\n",
       "      <td>N</td>\n",
       "      <td>0</td>\n",
       "      <td>12.0</td>\n",
       "      <td>0.0</td>\n",
       "      <td>5.0</td>\n",
       "      <td>0.0</td>\n",
       "      <td>0.0</td>\n",
       "      <td>5.975610</td>\n",
       "    </tr>\n",
       "    <tr>\n",
       "      <th>701679</th>\n",
       "      <td>5</td>\n",
       "      <td>9</td>\n",
       "      <td>5</td>\n",
       "      <td>843.0</td>\n",
       "      <td>735</td>\n",
       "      <td>1031.0</td>\n",
       "      <td>947</td>\n",
       "      <td>XE</td>\n",
       "      <td>108.0</td>\n",
       "      <td>132.0</td>\n",
       "      <td>...</td>\n",
       "      <td>643</td>\n",
       "      <td>0</td>\n",
       "      <td>N</td>\n",
       "      <td>0</td>\n",
       "      <td>44.0</td>\n",
       "      <td>0.0</td>\n",
       "      <td>0.0</td>\n",
       "      <td>0.0</td>\n",
       "      <td>0.0</td>\n",
       "      <td>6.989130</td>\n",
       "    </tr>\n",
       "    <tr>\n",
       "      <th>821242</th>\n",
       "      <td>1</td>\n",
       "      <td>5</td>\n",
       "      <td>6</td>\n",
       "      <td>1559.0</td>\n",
       "      <td>1505</td>\n",
       "      <td>1734.0</td>\n",
       "      <td>1635</td>\n",
       "      <td>WN</td>\n",
       "      <td>95.0</td>\n",
       "      <td>90.0</td>\n",
       "      <td>...</td>\n",
       "      <td>407</td>\n",
       "      <td>0</td>\n",
       "      <td>N</td>\n",
       "      <td>0</td>\n",
       "      <td>24.0</td>\n",
       "      <td>0.0</td>\n",
       "      <td>5.0</td>\n",
       "      <td>0.0</td>\n",
       "      <td>30.0</td>\n",
       "      <td>5.217949</td>\n",
       "    </tr>\n",
       "    <tr>\n",
       "      <th>536585</th>\n",
       "      <td>7</td>\n",
       "      <td>9</td>\n",
       "      <td>3</td>\n",
       "      <td>1737.0</td>\n",
       "      <td>1702</td>\n",
       "      <td>1947.0</td>\n",
       "      <td>1930</td>\n",
       "      <td>FL</td>\n",
       "      <td>130.0</td>\n",
       "      <td>148.0</td>\n",
       "      <td>...</td>\n",
       "      <td>925</td>\n",
       "      <td>0</td>\n",
       "      <td>N</td>\n",
       "      <td>0</td>\n",
       "      <td>0.0</td>\n",
       "      <td>0.0</td>\n",
       "      <td>0.0</td>\n",
       "      <td>0.0</td>\n",
       "      <td>17.0</td>\n",
       "      <td>7.974138</td>\n",
       "    </tr>\n",
       "    <tr>\n",
       "      <th>141527</th>\n",
       "      <td>7</td>\n",
       "      <td>8</td>\n",
       "      <td>2</td>\n",
       "      <td>1931.0</td>\n",
       "      <td>1847</td>\n",
       "      <td>16.0</td>\n",
       "      <td>2207</td>\n",
       "      <td>UA</td>\n",
       "      <td>225.0</td>\n",
       "      <td>140.0</td>\n",
       "      <td>...</td>\n",
       "      <td>865</td>\n",
       "      <td>0</td>\n",
       "      <td>N</td>\n",
       "      <td>0</td>\n",
       "      <td>0.0</td>\n",
       "      <td>0.0</td>\n",
       "      <td>85.0</td>\n",
       "      <td>0.0</td>\n",
       "      <td>44.0</td>\n",
       "      <td>7.393162</td>\n",
       "    </tr>\n",
       "    <tr>\n",
       "      <th>...</th>\n",
       "      <td>...</td>\n",
       "      <td>...</td>\n",
       "      <td>...</td>\n",
       "      <td>...</td>\n",
       "      <td>...</td>\n",
       "      <td>...</td>\n",
       "      <td>...</td>\n",
       "      <td>...</td>\n",
       "      <td>...</td>\n",
       "      <td>...</td>\n",
       "      <td>...</td>\n",
       "      <td>...</td>\n",
       "      <td>...</td>\n",
       "      <td>...</td>\n",
       "      <td>...</td>\n",
       "      <td>...</td>\n",
       "      <td>...</td>\n",
       "      <td>...</td>\n",
       "      <td>...</td>\n",
       "      <td>...</td>\n",
       "      <td>...</td>\n",
       "    </tr>\n",
       "    <tr>\n",
       "      <th>836489</th>\n",
       "      <td>6</td>\n",
       "      <td>13</td>\n",
       "      <td>5</td>\n",
       "      <td>1455.0</td>\n",
       "      <td>1430</td>\n",
       "      <td>1728.0</td>\n",
       "      <td>1659</td>\n",
       "      <td>9E</td>\n",
       "      <td>93.0</td>\n",
       "      <td>89.0</td>\n",
       "      <td>...</td>\n",
       "      <td>381</td>\n",
       "      <td>0</td>\n",
       "      <td>N</td>\n",
       "      <td>0</td>\n",
       "      <td>25.0</td>\n",
       "      <td>0.0</td>\n",
       "      <td>4.0</td>\n",
       "      <td>0.0</td>\n",
       "      <td>0.0</td>\n",
       "      <td>5.772727</td>\n",
       "    </tr>\n",
       "    <tr>\n",
       "      <th>491263</th>\n",
       "      <td>9</td>\n",
       "      <td>26</td>\n",
       "      <td>5</td>\n",
       "      <td>1126.0</td>\n",
       "      <td>910</td>\n",
       "      <td>1343.0</td>\n",
       "      <td>1105</td>\n",
       "      <td>MQ</td>\n",
       "      <td>137.0</td>\n",
       "      <td>115.0</td>\n",
       "      <td>...</td>\n",
       "      <td>544</td>\n",
       "      <td>0</td>\n",
       "      <td>N</td>\n",
       "      <td>0</td>\n",
       "      <td>0.0</td>\n",
       "      <td>117.0</td>\n",
       "      <td>22.0</td>\n",
       "      <td>0.0</td>\n",
       "      <td>19.0</td>\n",
       "      <td>6.112360</td>\n",
       "    </tr>\n",
       "    <tr>\n",
       "      <th>470924</th>\n",
       "      <td>7</td>\n",
       "      <td>31</td>\n",
       "      <td>4</td>\n",
       "      <td>2023.0</td>\n",
       "      <td>1735</td>\n",
       "      <td>2243.0</td>\n",
       "      <td>1943</td>\n",
       "      <td>EV</td>\n",
       "      <td>140.0</td>\n",
       "      <td>128.0</td>\n",
       "      <td>...</td>\n",
       "      <td>640</td>\n",
       "      <td>0</td>\n",
       "      <td>N</td>\n",
       "      <td>0</td>\n",
       "      <td>0.0</td>\n",
       "      <td>0.0</td>\n",
       "      <td>180.0</td>\n",
       "      <td>0.0</td>\n",
       "      <td>0.0</td>\n",
       "      <td>5.333333</td>\n",
       "    </tr>\n",
       "    <tr>\n",
       "      <th>491755</th>\n",
       "      <td>10</td>\n",
       "      <td>20</td>\n",
       "      <td>1</td>\n",
       "      <td>1615.0</td>\n",
       "      <td>1525</td>\n",
       "      <td>1832.0</td>\n",
       "      <td>1735</td>\n",
       "      <td>XE</td>\n",
       "      <td>137.0</td>\n",
       "      <td>130.0</td>\n",
       "      <td>...</td>\n",
       "      <td>529</td>\n",
       "      <td>0</td>\n",
       "      <td>N</td>\n",
       "      <td>0</td>\n",
       "      <td>8.0</td>\n",
       "      <td>0.0</td>\n",
       "      <td>7.0</td>\n",
       "      <td>0.0</td>\n",
       "      <td>42.0</td>\n",
       "      <td>5.688172</td>\n",
       "    </tr>\n",
       "    <tr>\n",
       "      <th>128037</th>\n",
       "      <td>8</td>\n",
       "      <td>21</td>\n",
       "      <td>4</td>\n",
       "      <td>1736.0</td>\n",
       "      <td>1710</td>\n",
       "      <td>2228.0</td>\n",
       "      <td>2155</td>\n",
       "      <td>AA</td>\n",
       "      <td>232.0</td>\n",
       "      <td>225.0</td>\n",
       "      <td>...</td>\n",
       "      <td>1391</td>\n",
       "      <td>0</td>\n",
       "      <td>N</td>\n",
       "      <td>0</td>\n",
       "      <td>0.0</td>\n",
       "      <td>0.0</td>\n",
       "      <td>33.0</td>\n",
       "      <td>0.0</td>\n",
       "      <td>0.0</td>\n",
       "      <td>7.398936</td>\n",
       "    </tr>\n",
       "  </tbody>\n",
       "</table>\n",
       "<p>997990 rows × 25 columns</p>\n",
       "</div>"
      ],
      "text/plain": [
       "        Month  DayofMonth  DayOfWeek  DepTime  CRSDepTime  ArrTime  \\\n",
       "768032      2          15          5   1436.0        1424   1517.0   \n",
       "701679      5           9          5    843.0         735   1031.0   \n",
       "821242      1           5          6   1559.0        1505   1734.0   \n",
       "536585      7           9          3   1737.0        1702   1947.0   \n",
       "141527      7           8          2   1931.0        1847     16.0   \n",
       "...       ...         ...        ...      ...         ...      ...   \n",
       "836489      6          13          5   1455.0        1430   1728.0   \n",
       "491263      9          26          5   1126.0         910   1343.0   \n",
       "470924      7          31          4   2023.0        1735   2243.0   \n",
       "491755     10          20          1   1615.0        1525   1832.0   \n",
       "128037      8          21          4   1736.0        1710   2228.0   \n",
       "\n",
       "        CRSArrTime UniqueCarrier  ActualElapsedTime  CRSElapsedTime  ...  \\\n",
       "768032        1500            NW              101.0            96.0  ...   \n",
       "701679         947            XE              108.0           132.0  ...   \n",
       "821242        1635            WN               95.0            90.0  ...   \n",
       "536585        1930            FL              130.0           148.0  ...   \n",
       "141527        2207            UA              225.0           140.0  ...   \n",
       "...            ...           ...                ...             ...  ...   \n",
       "836489        1659            9E               93.0            89.0  ...   \n",
       "491263        1105            MQ              137.0           115.0  ...   \n",
       "470924        1943            EV              140.0           128.0  ...   \n",
       "491755        1735            XE              137.0           130.0  ...   \n",
       "128037        2155            AA              232.0           225.0  ...   \n",
       "\n",
       "        Distance  Cancelled  CancellationCode Diverted CarrierDelay  \\\n",
       "768032       490          0                 N        0         12.0   \n",
       "701679       643          0                 N        0         44.0   \n",
       "821242       407          0                 N        0         24.0   \n",
       "536585       925          0                 N        0          0.0   \n",
       "141527       865          0                 N        0          0.0   \n",
       "...          ...        ...               ...      ...          ...   \n",
       "836489       381          0                 N        0         25.0   \n",
       "491263       544          0                 N        0          0.0   \n",
       "470924       640          0                 N        0          0.0   \n",
       "491755       529          0                 N        0          8.0   \n",
       "128037      1391          0                 N        0          0.0   \n",
       "\n",
       "        WeatherDelay  NASDelay SecurityDelay  LateAircraftDelay   AvSpeed  \n",
       "768032           0.0       5.0           0.0                0.0  5.975610  \n",
       "701679           0.0       0.0           0.0                0.0  6.989130  \n",
       "821242           0.0       5.0           0.0               30.0  5.217949  \n",
       "536585           0.0       0.0           0.0               17.0  7.974138  \n",
       "141527           0.0      85.0           0.0               44.0  7.393162  \n",
       "...              ...       ...           ...                ...       ...  \n",
       "836489           0.0       4.0           0.0                0.0  5.772727  \n",
       "491263         117.0      22.0           0.0               19.0  6.112360  \n",
       "470924           0.0     180.0           0.0                0.0  5.333333  \n",
       "491755           0.0       7.0           0.0               42.0  5.688172  \n",
       "128037           0.0      33.0           0.0                0.0  7.398936  \n",
       "\n",
       "[997990 rows x 25 columns]"
      ]
     },
     "execution_count": 4,
     "metadata": {},
     "output_type": "execute_result"
    }
   ],
   "source": [
    "df_train"
   ]
  },
  {
   "cell_type": "code",
   "execution_count": 5,
   "metadata": {},
   "outputs": [
    {
     "name": "stdout",
     "output_type": "stream",
     "text": [
      "131.76520506217497\n",
      "115.0\n",
      "69.53745225204044\n",
      "6.469580735123464\n",
      "6.586956521739131\n",
      "1.8048422396070791\n"
     ]
    }
   ],
   "source": [
    "print(df_train[\"CRSElapsedTime\"].mean())\n",
    "print(df_train[\"CRSElapsedTime\"].median())\n",
    "print(df_train[\"CRSElapsedTime\"].std())\n",
    "\n",
    "print(df_train[\"AvSpeed\"].mean())\n",
    "print(df_train[\"AvSpeed\"].median())\n",
    "print(df_train[\"AvSpeed\"].std())\n"
   ]
  },
  {
   "cell_type": "code",
   "execution_count": 6,
   "metadata": {},
   "outputs": [
    {
     "name": "stdout",
     "output_type": "stream",
     "text": [
      "131.75932472404588\n",
      "115.0\n",
      "69.51014847586009\n",
      "6.468681622688244\n",
      "6.587912087912088\n",
      "1.344182123517918\n"
     ]
    }
   ],
   "source": [
    "print(df_test[\"CRSElapsedTime\"].mean())\n",
    "print(df_test[\"CRSElapsedTime\"].median())\n",
    "print(df_test[\"CRSElapsedTime\"].std())\n",
    "\n",
    "print(df_test[\"AvSpeed\"].mean())\n",
    "print(df_test[\"AvSpeed\"].median())\n",
    "print(df_test[\"AvSpeed\"].std())\n",
    "\n",
    "# We can see that the train and test descriptive measures are very similar, which is normal considering their size"
   ]
  },
  {
   "cell_type": "markdown",
   "metadata": {},
   "source": [
    "Aplica algun procés de transformació (estandarditzar les dades numèriques, crear columnes dummies, polinomis...):\n",
    "\n",
    "Resumeix les noves columnes generades de manera estadística i gràfica:"
   ]
  },
  {
   "cell_type": "code",
   "execution_count": 8,
   "metadata": {},
   "outputs": [
    {
     "name": "stdout",
     "output_type": "stream",
     "text": [
      "741.8209765208538\n",
      "595.0\n",
      "559.9310010308765\n"
     ]
    }
   ],
   "source": [
    "# Standarisation of distance variable\n",
    "\n",
    "# Data before pre-processing:\n",
    "\n",
    "print(df_test[\"Distance\"].mean())\n",
    "print(df_test[\"Distance\"].median())\n",
    "print(df_test[\"Distance\"].std())"
   ]
  },
  {
   "cell_type": "code",
   "execution_count": 9,
   "metadata": {},
   "outputs": [
    {
     "data": {
      "text/plain": [
       "(array([1.04571e+05, 8.67850e+04, 3.18790e+04, 1.48240e+04, 8.05400e+03,\n",
       "        2.95200e+03, 1.42000e+02, 1.26000e+02, 8.60000e+01, 7.90000e+01]),\n",
       " array([  11. ,  506.1, 1001.2, 1496.3, 1991.4, 2486.5, 2981.6, 3476.7,\n",
       "        3971.8, 4466.9, 4962. ]),\n",
       " <BarContainer object of 10 artists>)"
      ]
     },
     "execution_count": 9,
     "metadata": {},
     "output_type": "execute_result"
    },
    {
     "data": {
      "image/png": "[encoded data removed]",
      "text/plain": [
       "<Figure size 432x288 with 1 Axes>"
      ]
     },
     "metadata": {
      "needs_background": "light"
     },
     "output_type": "display_data"
    }
   ],
   "source": [
    "plt.hist(df_test[\"Distance\"])"
   ]
  },
  {
   "cell_type": "code",
   "execution_count": 10,
   "metadata": {},
   "outputs": [
    {
     "data": {
      "text/plain": [
       "{'whiskers': [<matplotlib.lines.Line2D at 0x7fe89296e400>,\n",
       "  <matplotlib.lines.Line2D at 0x7fe89296e760>],\n",
       " 'caps': [<matplotlib.lines.Line2D at 0x7fe89296eac0>,\n",
       "  <matplotlib.lines.Line2D at 0x7fe89296ee20>],\n",
       " 'boxes': [<matplotlib.lines.Line2D at 0x7fe89296e0a0>],\n",
       " 'medians': [<matplotlib.lines.Line2D at 0x7fe892bc01c0>],\n",
       " 'fliers': [<matplotlib.lines.Line2D at 0x7fe892bc0520>],\n",
       " 'means': []}"
      ]
     },
     "execution_count": 10,
     "metadata": {},
     "output_type": "execute_result"
    },
    {
     "data": {
      "image/png": "[encoded data removed]",
      "text/plain": [
       "<Figure size 432x288 with 1 Axes>"
      ]
     },
     "metadata": {
      "needs_background": "light"
     },
     "output_type": "display_data"
    }
   ],
   "source": [
    "plt.boxplot(df_test[\"Distance\"])\n",
    "\n",
    "# Boxplot shows that we need to supress some outliers"
   ]
  },
  {
   "cell_type": "code",
   "execution_count": 11,
   "metadata": {},
   "outputs": [
    {
     "data": {
      "text/plain": [
       "{'whiskers': [<matplotlib.lines.Line2D at 0x7fe894d0bd90>,\n",
       "  <matplotlib.lines.Line2D at 0x7fe894d19130>],\n",
       " 'caps': [<matplotlib.lines.Line2D at 0x7fe894d19490>,\n",
       "  <matplotlib.lines.Line2D at 0x7fe894d197f0>],\n",
       " 'boxes': [<matplotlib.lines.Line2D at 0x7fe894d0ba30>],\n",
       " 'medians': [<matplotlib.lines.Line2D at 0x7fe894d19b50>],\n",
       " 'fliers': [<matplotlib.lines.Line2D at 0x7fe894d19eb0>],\n",
       " 'means': []}"
      ]
     },
     "execution_count": 11,
     "metadata": {},
     "output_type": "execute_result"
    },
    {
     "data": {
      "image/png": "[encoded data removed]",
      "text/plain": [
       "<Figure size 432x288 with 1 Axes>"
      ]
     },
     "metadata": {
      "needs_background": "light"
     },
     "output_type": "display_data"
    }
   ],
   "source": [
    "Q1= df_test[\"Distance\"].quantile(0.25)\n",
    "Q3 = df_test[\"Distance\"].quantile(0.75)\n",
    "\n",
    "IQR = Q3 - Q1\n",
    "\n",
    "upper = Q3 + 1.5 * IQR\n",
    "lower = Q1 - 1.5 * IQR\n",
    "\n",
    "df_test_filtered = df_test[(df_test[\"Distance\"] > lower) & (df_test[\"Distance\"] < upper)]\n",
    "\n",
    "plt.boxplot(df_test_filtered[\"Distance\"])"
   ]
  },
  {
   "cell_type": "code",
   "execution_count": 12,
   "metadata": {},
   "outputs": [
    {
     "data": {
      "text/plain": [
       "(array([23446., 53496., 43078., 39479., 26786., 21182.,  9433.,  7935.,\n",
       "         6455.,  5333.]),\n",
       " array([-1.55289506, -1.09223028, -0.6315655 , -0.17090072,  0.28976406,\n",
       "         0.75042884,  1.21109361,  1.67175839,  2.13242317,  2.59308795,\n",
       "         3.05375273]),\n",
       " <BarContainer object of 10 artists>)"
      ]
     },
     "execution_count": 12,
     "metadata": {},
     "output_type": "execute_result"
    },
    {
     "data": {
      "image/png": "[encoded data removed]",
      "text/plain": [
       "<Figure size 432x288 with 1 Axes>"
      ]
     },
     "metadata": {
      "needs_background": "light"
     },
     "output_type": "display_data"
    }
   ],
   "source": [
    "from sklearn import preprocessing\n",
    "import numpy as np\n",
    "\n",
    "arr = np.array(df_test_filtered[\"Distance\"])\n",
    "\n",
    "distance_1d_arr = arr.reshape(-1, 1)\n",
    "\n",
    "distance_test_scaled = preprocessing.StandardScaler().fit_transform(distance_1d_arr)\n",
    "\n",
    "plt.hist(distance_test_scaled)\n",
    "\n",
    "# Data standarised: mean of 0, standard deviation of 1\n"
   ]
  },
  {
   "cell_type": "code",
   "execution_count": 13,
   "metadata": {},
   "outputs": [
    {
     "name": "stdout",
     "output_type": "stream",
     "text": [
      "63.40265653432092\n",
      "43.0\n",
      "60.666567987720214\n"
     ]
    }
   ],
   "source": [
    "# Delay data normalisation\n",
    "\n",
    "print(df_test[\"ArrDelay\"].mean())\n",
    "print(df_test[\"ArrDelay\"].median())\n",
    "print(df_test[\"ArrDelay\"].std())"
   ]
  },
  {
   "cell_type": "code",
   "execution_count": 15,
   "metadata": {},
   "outputs": [
    {
     "data": {
      "text/plain": [
       "{'whiskers': [<matplotlib.lines.Line2D at 0x7fe896452670>,\n",
       "  <matplotlib.lines.Line2D at 0x7fe8964529d0>],\n",
       " 'caps': [<matplotlib.lines.Line2D at 0x7fe896452d30>,\n",
       "  <matplotlib.lines.Line2D at 0x7fe89645d0d0>],\n",
       " 'boxes': [<matplotlib.lines.Line2D at 0x7fe896452310>],\n",
       " 'medians': [<matplotlib.lines.Line2D at 0x7fe89645d430>],\n",
       " 'fliers': [<matplotlib.lines.Line2D at 0x7fe89645d790>],\n",
       " 'means': []}"
      ]
     },
     "execution_count": 15,
     "metadata": {},
     "output_type": "execute_result"
    },
    {
     "data": {
      "image/png": "[encoded data removed]",
      "text/plain": [
       "<Figure size 432x288 with 1 Axes>"
      ]
     },
     "metadata": {
      "needs_background": "light"
     },
     "output_type": "display_data"
    }
   ],
   "source": [
    "plt.boxplot(df_test[\"ArrDelay\"])\n",
    "\n",
    "# Serious outliers but will not delete them to avoid losing important data"
   ]
  },
  {
   "cell_type": "code",
   "execution_count": 16,
   "metadata": {},
   "outputs": [
    {
     "data": {
      "text/plain": [
       "(array([2.26345e+05, 9.26100e+03, 7.94000e+02, 1.16000e+02, 5.70000e+01,\n",
       "        2.70000e+01, 1.30000e+01, 5.00000e+00, 3.00000e+00, 2.00000e+00]),\n",
       " array([0. , 0.1, 0.2, 0.3, 0.4, 0.5, 0.6, 0.7, 0.8, 0.9, 1. ]),\n",
       " <BarContainer object of 10 artists>)"
      ]
     },
     "execution_count": 16,
     "metadata": {},
     "output_type": "execute_result"
    },
    {
     "data": {
      "image/png": "[encoded data removed]",
      "text/plain": [
       "<Figure size 432x288 with 1 Axes>"
      ]
     },
     "metadata": {
      "needs_background": "light"
     },
     "output_type": "display_data"
    }
   ],
   "source": [
    "\n",
    "arr = np.array(df_test_filtered[\"ArrDelay\"])\n",
    "\n",
    "delay_1d_arr = arr.reshape(-1, 1)\n",
    "\n",
    "delay_test_scaled = preprocessing.MinMaxScaler().fit_transform(delay_1d_arr)\n",
    "\n",
    "plt.hist(delay_test_scaled)\n",
    "\n",
    "# Data normalised: Most of the data is concentrated on the lower values, under 2.5 hours of delay\n"
   ]
  },
  {
   "cell_type": "code",
   "execution_count": 18,
   "metadata": {
    "scrolled": false
   },
   "outputs": [
    {
     "data": {
      "text/plain": [
       "{'whiskers': [<matplotlib.lines.Line2D at 0x7fe896428ca0>,\n",
       "  <matplotlib.lines.Line2D at 0x7fe8b84f58e0>],\n",
       " 'caps': [<matplotlib.lines.Line2D at 0x7fe8906dc1f0>,\n",
       "  <matplotlib.lines.Line2D at 0x7fe894cea160>],\n",
       " 'boxes': [<matplotlib.lines.Line2D at 0x7fe896428760>],\n",
       " 'medians': [<matplotlib.lines.Line2D at 0x7fe894cea460>],\n",
       " 'fliers': [<matplotlib.lines.Line2D at 0x7fe894d24790>],\n",
       " 'means': []}"
      ]
     },
     "execution_count": 18,
     "metadata": {},
     "output_type": "execute_result"
    },
    {
     "data": {
      "image/png": "[encoded data removed]",
      "text/plain": [
       "<Figure size 432x288 with 1 Axes>"
      ]
     },
     "metadata": {
      "needs_background": "light"
     },
     "output_type": "display_data"
    }
   ],
   "source": [
    "# Discretisation ActualElapsedTime\n",
    "\n",
    "plt.boxplot(df_test[\"ActualElapsedTime\"])"
   ]
  },
  {
   "cell_type": "code",
   "execution_count": 24,
   "metadata": {},
   "outputs": [
    {
     "data": {
      "text/plain": [
       "normal        202622\n",
       "long           28206\n",
       "super long     10102\n",
       "very short      8568\n",
       "Name: ActualElapsedTime, dtype: int64"
      ]
     },
     "execution_count": 24,
     "metadata": {},
     "output_type": "execute_result"
    }
   ],
   "source": [
    "bins = [0, 50, 200, 300, np.inf]\n",
    "labels = ['very short', 'normal', 'long', 'super long']\n",
    "\n",
    "transformer = preprocessing.FunctionTransformer(\n",
    "    pd.cut, kw_args={'bins': bins, 'labels': labels, 'retbins': False}\n",
    ")\n",
    "\n",
    "discrete_duration = transformer.fit_transform(df_test[\"ActualElapsedTime\"])\n",
    "\n",
    "discrete_duration.value_counts()"
   ]
  },
  {
   "cell_type": "code",
   "execution_count": 35,
   "metadata": {},
   "outputs": [
    {
     "data": {
      "text/plain": [
       "0    201602\n",
       "1     35021\n",
       "dtype: int64"
      ]
     },
     "execution_count": 35,
     "metadata": {},
     "output_type": "execute_result"
    }
   ],
   "source": [
    "# Binarisation of days into weekend and weekdays\n",
    "\n",
    "arr = np.array(df_test_filtered[\"DayOfWeek\"])\n",
    "\n",
    "days_1d_arr = arr.reshape(-1, 1)\n",
    "\n",
    "binarise = preprocessing.Binarizer(threshold = 6)\n",
    "\n",
    "binarised_days = binarise.fit_transform(days_1d_arr)\n",
    "\n",
    "binarised_df = pd.DataFrame(binarised_days)\n",
    "\n",
    "binarised_df.value_counts()\n",
    "\n"
   ]
  }
 ],
 "metadata": {
  "kernelspec": {
   "display_name": "Python 3",
   "language": "python",
   "name": "python3"
  },
  "language_info": {
   "codemirror_mode": {
    "name": "ipython",
    "version": 3
   },
   "file_extension": ".py",
   "mimetype": "text/x-python",
   "name": "python",
   "nbconvert_exporter": "python",
   "pygments_lexer": "ipython3",
   "version": "3.8.5"
  }
 },
 "nbformat": 4,
 "nbformat_minor": 4
}
